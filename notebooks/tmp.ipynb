{
 "cells": [
  {
   "cell_type": "code",
   "execution_count": 1,
   "metadata": {},
   "outputs": [],
   "source": [
    "import os\n",
    "root_proj = '/Users/luo/OneDrive/GitHub/icesat-tool'\n",
    "os.chdir(root_proj)\n"
   ]
  },
  {
   "cell_type": "code",
   "execution_count": 9,
   "metadata": {},
   "outputs": [
    {
     "name": "stdout",
     "output_type": "stream",
     "text": [
      "anom_ssegs               Group\n"
     ]
    }
   ],
   "source": [
    "!h5ls data/icesat2/dianchi_ATL13_down/processed_ATL13_20190114123506_02610201_005_01.h5/gt3r\n"
   ]
  },
  {
   "cell_type": "code",
   "execution_count": 3,
   "metadata": {},
   "outputs": [
    {
     "name": "stdout",
     "output_type": "stream",
     "text": [
      "beam_type                Dataset {161}\n",
      "h                        Dataset {161}\n",
      "lat                      Dataset {161}\n",
      "lon                      Dataset {161}\n",
      "orbit_type               Dataset {161}\n",
      "spot                     Dataset {161}\n",
      "t_dyr                    Dataset {161}\n"
     ]
    }
   ],
   "source": [
    "!h5ls data/icesat2/dianchi_ATL13_readout/processed_ATL13_20190114123506_02610201_005_01_readout.h5\n"
   ]
  },
  {
   "cell_type": "code",
   "execution_count": 2,
   "metadata": {},
   "outputs": [
    {
     "name": "stdout",
     "output_type": "stream",
     "text": [
      "running in parallel (4 jobs) ...\n",
      "[Parallel(n_jobs=4)]: Using backend LokyBackend with 4 concurrent workers.\n",
      "('missing group:', './gt1l')\n",
      "('in file:', 'data/icesat2/dianchi_ATL13_down/processed_ATL13_20190114123506_02610201_005_01.h5')\n",
      "('missing group:', './gt1r')\n",
      "('in file:', 'data/icesat2/dianchi_ATL13_down/processed_ATL13_20190114123506_02610201_005_01.h5')\n",
      "('missing group:', './gt3l')\n",
      "('in file:', 'data/icesat2/dianchi_ATL13_down/processed_ATL13_20190114123506_02610201_005_01.h5')\n",
      "('missing group:', './gt3r')\n",
      "('in file:', 'data/icesat2/dianchi_ATL13_down/processed_ATL13_20190114123506_02610201_005_01.h5')\n",
      "written file: data/icesat2/dianchi_ATL13_readout/processed_ATL13_20190114123506_02610201_005_01_readout.h5\n",
      "[Parallel(n_jobs=4)]: Done   1 out of   1 | elapsed:    2.8s finished\n"
     ]
    }
   ],
   "source": [
    "!python utils_main/read_atl13.py data/icesat2/dianchi_ATL13_down/processed_ATL13_20190114123506_02610201_005_01.h5 -o data/icesat2/dianchi_ATL13_readout/ -n 4\n",
    "\n"
   ]
  }
 ],
 "metadata": {
  "kernelspec": {
   "display_name": "Python 3.8.13 ('venv-glacier')",
   "language": "python",
   "name": "python3"
  },
  "language_info": {
   "codemirror_mode": {
    "name": "ipython",
    "version": 3
   },
   "file_extension": ".py",
   "mimetype": "text/x-python",
   "name": "python",
   "nbconvert_exporter": "python",
   "pygments_lexer": "ipython3",
   "version": "3.8.13"
  },
  "orig_nbformat": 4,
  "vscode": {
   "interpreter": {
    "hash": "b9d1bc8420fb36ae897ecd2621fd92de8132db6fd0b3a5e27f6655b067ae11f3"
   }
  }
 },
 "nbformat": 4,
 "nbformat_minor": 2
}
